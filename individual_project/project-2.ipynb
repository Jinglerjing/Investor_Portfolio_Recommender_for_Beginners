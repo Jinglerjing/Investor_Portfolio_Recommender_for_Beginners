{
 "cells": [
  {
   "cell_type": "markdown",
   "metadata": {},
   "source": [
    "# Stock Investment for Beginners"
   ]
  },
  {
   "cell_type": "markdown",
   "metadata": {},
   "source": [
    "## Introduction"
   ]
  },
  {
   "cell_type": "markdown",
   "metadata": {},
   "source": [
    "This is a synthetic stock market dataset from Kaggle, containing 1,000 days of simulated stock data starting from January 1, 2022.\n",
    "\n",
    "The dataset captures the daily stock behavior of multiple companies from diverse industries, including Technology, Finance, Healthcare, Energy, Consumer Goods, Automotive, and Aerospace.\n",
    "Key fields include stock prices (Open, Close, High, Low), trading volume, P/E ratio, dividend yield, volatility, sentiment score, and a trend label (Bullish, Bearish, Stable).\n",
    "\n",
    "This EDA aims to:\n",
    "1. Clean and enhance the dataset for analysis\n",
    "2. Standardize company-sector assignments\n",
    "3. Analyze stock characteristics by sector and company\n",
    "4. Generate investment recommendations tailored for short-term and long-term beginner investors."
   ]
  },
  {
   "cell_type": "markdown",
   "metadata": {},
   "source": [
    "### 1. Import and Load Data "
   ]
  },
  {
   "cell_type": "code",
   "execution_count": 1,
   "metadata": {},
   "outputs": [],
   "source": [
    "import matplotlib.pyplot as plt\n",
    "import numpy as np\n",
    "import pandas as pd\n",
    "import seaborn as sns\n",
    "import warnings\n",
    "\n",
    "import scipy.stats as stats\n",
    "from statsmodels.stats.proportion import proportions_ztest, proportion_confint"
   ]
  },
  {
   "cell_type": "code",
   "execution_count": 2,
   "metadata": {},
   "outputs": [],
   "source": [
    "# Read File\n",
    "stock_df = pd.read_csv('/Users/xiejing/Desktop/Codeoptest/individual_project/synthetic_stock_data.csv')"
   ]
  },
  {
   "cell_type": "markdown",
   "metadata": {},
   "source": [
    "### 2.  Initial Exploration: head, shape, columns, description, missing values,etc\n"
   ]
  },
  {
   "cell_type": "code",
   "execution_count": null,
   "metadata": {},
   "outputs": [],
   "source": [
    "stock_df.shape"
   ]
  },
  {
   "cell_type": "code",
   "execution_count": null,
   "metadata": {},
   "outputs": [],
   "source": [
    "stock_df.columns"
   ]
  },
  {
   "cell_type": "code",
   "execution_count": null,
   "metadata": {},
   "outputs": [],
   "source": [
    "stock_df.head()"
   ]
  },
  {
   "cell_type": "code",
   "execution_count": null,
   "metadata": {},
   "outputs": [],
   "source": [
    "stock_df.columns"
   ]
  },
  {
   "cell_type": "code",
   "execution_count": null,
   "metadata": {},
   "outputs": [],
   "source": [
    "stock_df.describe()"
   ]
  },
  {
   "cell_type": "code",
   "execution_count": null,
   "metadata": {},
   "outputs": [],
   "source": [
    "# To check if the format of this column is in datetime\n",
    "stock_df.Date"
   ]
  },
  {
   "cell_type": "code",
   "execution_count": null,
   "metadata": {},
   "outputs": [],
   "source": [
    "stock_df.Company.unique()"
   ]
  },
  {
   "cell_type": "code",
   "execution_count": null,
   "metadata": {},
   "outputs": [],
   "source": [
    "stock_df.Sector.unique()"
   ]
  },
  {
   "cell_type": "markdown",
   "metadata": {},
   "source": [
    "#### 2.1 DATA ISSUE -- THE SECTORS\n",
    "Sectors are randomly assigned per row, so there's no reliable link between a company and a sector.\n",
    "\n",
    "That makes it impossible to accurately sum Market_Cap or compare sectors, because one company might show up in different sectors across different rows.\n",
    "\n",
    "So I did a remapping for the companies' sector"
   ]
  },
  {
   "cell_type": "code",
   "execution_count": null,
   "metadata": {},
   "outputs": [],
   "source": [
    "# Check how many sectors each company appears in\n",
    "company_sector_counts = stock_df.groupby('Company')['Sector'].nunique()\n",
    "print(company_sector_counts.sort_values(ascending=False).head())\n"
   ]
  },
  {
   "cell_type": "code",
   "execution_count": 116,
   "metadata": {},
   "outputs": [],
   "source": [
    "# Use mode (most common) sector for each company\n",
    "company_sector_map = stock_df.groupby('Company')['Sector'].agg(lambda x: x.mode()[0])\n"
   ]
  },
  {
   "cell_type": "code",
   "execution_count": 117,
   "metadata": {},
   "outputs": [],
   "source": [
    "stock_df['Sector'] = stock_df['Company'].map(company_sector_map)\n"
   ]
  },
  {
   "cell_type": "code",
   "execution_count": null,
   "metadata": {},
   "outputs": [],
   "source": [
    "# Validate: now each company should appear in only one sector\n",
    "stock_df.groupby('Company')['Sector'].nunique().max()\n",
    "# Should return 1 ✅\n"
   ]
  },
  {
   "cell_type": "code",
   "execution_count": null,
   "metadata": {},
   "outputs": [],
   "source": [
    "# This creates a Series showing how many unique sectors each company appears in.\n",
    "\n",
    "company_sector_counts = stock_df.groupby('Company')['Sector'].nunique()\n",
    "\n",
    "print(company_sector_counts)"
   ]
  },
  {
   "cell_type": "code",
   "execution_count": null,
   "metadata": {},
   "outputs": [],
   "source": [
    "all_unique = company_sector_counts.max() == 1\n",
    "print(\"✅ All companies have a single sector assigned.\" if all_unique else \"❌ Some companies still have multiple sectors.\")\n"
   ]
  },
  {
   "cell_type": "code",
   "execution_count": null,
   "metadata": {},
   "outputs": [],
   "source": [
    "# Set pandas to show all rows (or increase limit)\n",
    "pd.set_option('display.max_rows', None)\n",
    "pd.set_option('display.max_colwidth', None)\n",
    "\n",
    "# Now print the full mapping\n",
    "company_sector_map = stock_df.groupby('Company')['Sector'].first().sort_index()\n",
    "print(company_sector_map)\n",
    "\n"
   ]
  },
  {
   "cell_type": "code",
   "execution_count": null,
   "metadata": {},
   "outputs": [],
   "source": [
    "# Define the corrected mapping based on the requested sector list\n",
    "custom_sector_map = {\n",
    "    'AMD': 'Technology',\n",
    "    'Adobe': 'Technology',\n",
    "    'Airbus': 'Aerospace',\n",
    "    'Alibaba': 'Technology',\n",
    "    'Amazon': 'Technology',\n",
    "    'Apple': 'Technology',\n",
    "    'AstraZeneca': 'Healthcare',\n",
    "    'BMW': 'Automotive',\n",
    "    'BP': 'Energy',\n",
    "    'Bank of America': 'Finance',\n",
    "    'Boeing': 'Aerospace',\n",
    "    'Chevron': 'Energy',\n",
    "    'Citigroup': 'Finance',\n",
    "    'ExxonMobil': 'Energy',\n",
    "    'Ferrari': 'Automotive',\n",
    "    'Ford': 'Automotive',\n",
    "    'General Motors': 'Automotive',\n",
    "    'Gilead Sciences': 'Healthcare',\n",
    "    'Goldman Sachs': 'Finance',\n",
    "    'Google': 'Technology',\n",
    "    'HSBC': 'Finance',\n",
    "    'Honda': 'Automotive',\n",
    "    'IBM': 'Technology',\n",
    "    'Intel': 'Technology',\n",
    "    'JPMorgan Chase': 'Finance',\n",
    "    'Johnson & Johnson': 'Healthcare',\n",
    "    'LG': 'Technology',\n",
    "    'Lamborghini': 'Automotive',\n",
    "    'Lockheed Martin': 'Aerospace',\n",
    "    'Lyft': 'Technology',\n",
    "    'MasterCard': 'Finance',\n",
    "    'Mercedes-Benz': 'Automotive',\n",
    "    'Meta': 'Technology',\n",
    "    'Microsoft': 'Technology',\n",
    "    'Moderna': 'Healthcare',\n",
    "    'Morgan Stanley': 'Finance',\n",
    "    'Netflix': 'Technology',\n",
    "    'Northrop Grumman': 'Aerospace',\n",
    "    'Novartis': 'Healthcare',\n",
    "    'Nvidia': 'Technology',\n",
    "    'Oracle': 'Technology',\n",
    "    'Panasonic': 'Consumer Goods',\n",
    "    'PayPal': 'Technology',\n",
    "    'Pfizer': 'Healthcare',\n",
    "    'Porsche': 'Automotive',\n",
    "    'Raytheon': 'Aerospace',\n",
    "    'Roche': 'Healthcare',\n",
    "    'Salesforce': 'Technology',\n",
    "    'Samsung': 'Technology',\n",
    "    'Shell': 'Energy',\n",
    "    'Snapchat': 'Technology',\n",
    "    'Sony': 'Consumer Goods',\n",
    "    'SpaceX': 'Aerospace',\n",
    "    'Spotify': 'Technology',\n",
    "    'Square': 'Technology',\n",
    "    'Tencent': 'Technology',\n",
    "    'Tesla': 'Automotive',\n",
    "    'TotalEnergies': 'Energy',\n",
    "    'Toyota': 'Automotive',\n",
    "    'Twitter': 'Technology',\n",
    "    'Uber': 'Technology',\n",
    "    'Visa': 'Finance',\n",
    "    'Wells Fargo': 'Finance'\n",
    "}\n",
    "\n",
    "# Apply the mapping to the dataset\n",
    "stock_df['Sector'] = stock_df['Company'].map(custom_sector_map)\n"
   ]
  },
  {
   "cell_type": "code",
   "execution_count": null,
   "metadata": {},
   "outputs": [],
   "source": [
    "# Save the updated dataset with remapped sectors to a new CSV file\n",
    "output_path = \"/Users/xiejing/Desktop/Codeoptest/individual_project/synthetic_stock_data_remap.csv\"\n",
    "stock_df.to_csv(output_path, index=False)\n",
    "\n",
    "output_path\n"
   ]
  },
  {
   "cell_type": "markdown",
   "metadata": {},
   "source": [
    "#### 2.2 DATA ISSUE -- THE CLOSE and OPEN\n",
    "These two columns are showing the same figures, so I decided  to use \"HIGH\" and \"LOW\" instead. "
   ]
  },
  {
   "cell_type": "code",
   "execution_count": null,
   "metadata": {},
   "outputs": [],
   "source": [
    "print(stock_df[['Open', 'Close']].head(10))\n",
    "print((stock_df['Close'] - stock_df['Open']).describe())\n"
   ]
  },
  {
   "cell_type": "markdown",
   "metadata": {},
   "source": [
    "### Goal\tUse This\n",
    "Intraday volatility ----------\t(High - Low) / Low\n",
    "Daily directional movement ---\tpct_change(Close)\n",
    "Trend over time\t-------         Close line chart\n",
    "Momentum\t-----               Moving Average of Close\n",
    "Total growth trajectory\t-----   Cumulative return from Close"
   ]
  },
  {
   "cell_type": "markdown",
   "metadata": {},
   "source": [
    "###  3. Volatility Profiling"
   ]
  },
  {
   "cell_type": "code",
   "execution_count": null,
   "metadata": {},
   "outputs": [],
   "source": [
    "volatility_by_sector = stock_df.groupby('Sector')['Volatility'].mean().sort_values(ascending=False)\n",
    "print(volatility_by_sector)\n"
   ]
  },
  {
   "cell_type": "code",
   "execution_count": null,
   "metadata": {},
   "outputs": [],
   "source": [
    "stock_df.groupby('Company')[['Volatility', 'Volume']].mean().sort_values(by='Volatility')\n"
   ]
  },
  {
   "cell_type": "code",
   "execution_count": null,
   "metadata": {},
   "outputs": [],
   "source": [
    "#### volume_by_sector \n",
    "volume_by_sector = stock_df.groupby('Sector')['Volume'].sum().sort_values(ascending=False)\n",
    "print(volume_by_sector)\n",
    "\n",
    "volume_by_sector.plot(kind='bar', figsize=(10,5), title='Total Trading Volume by Sector')\n",
    "plt.ylabel('Total Volume')\n",
    "plt.show()"
   ]
  },
  {
   "cell_type": "code",
   "execution_count": null,
   "metadata": {},
   "outputs": [],
   "source": []
  },
  {
   "cell_type": "markdown",
   "metadata": {},
   "source": [
    "### 4. Sentiment vs Trend Correlation"
   ]
  },
  {
   "cell_type": "code",
   "execution_count": null,
   "metadata": {},
   "outputs": [],
   "source": [
    "stock_df['Is_Bullish'] = (stock_df['Trend'] == 'bullish').astype(int)\n",
    "stock_df[['Sentiment_Score', 'Is_Bullish']].corr()\n",
    "\n",
    "# This is very close to 0, which means, there is virtually no relationship between the sentiment score and whether a day is labeled as bullish in this dataset.\n"
   ]
  },
  {
   "cell_type": "markdown",
   "metadata": {},
   "source": [
    "### 5. Dividend Yield Screening"
   ]
  },
  {
   "cell_type": "code",
   "execution_count": null,
   "metadata": {},
   "outputs": [],
   "source": [
    "div_yield_ranking = stock_df.groupby('Company')['Dividend_Yield'].mean().sort_values(ascending=False)\n",
    "\n",
    "print(div_yield_ranking)"
   ]
  },
  {
   "cell_type": "markdown",
   "metadata": {},
   "source": [
    "### 6. PE Ratio Assessment"
   ]
  },
  {
   "cell_type": "code",
   "execution_count": 183,
   "metadata": {},
   "outputs": [
    {
     "name": "stdout",
     "output_type": "stream",
     "text": [
      "Sector\n",
      "Consumer Goods    20.247996\n",
      "Healthcare        22.362825\n",
      "Aerospace         22.499242\n",
      "Automotive        22.551662\n",
      "Finance           22.838387\n",
      "Technology        22.968955\n",
      "Energy            24.848918\n",
      "Name: PE_Ratio, dtype: float64\n"
     ]
    }
   ],
   "source": [
    "pe_by_sector = stock_df.groupby('Sector')['PE_Ratio'].mean().sort_values()\n",
    "\n",
    "print(pe_by_sector)"
   ]
  },
  {
   "cell_type": "code",
   "execution_count": 185,
   "metadata": {},
   "outputs": [
    {
     "data": {
      "image/png": "[encoded data removed]",
      "text/plain": [
       "<Figure size 1000x600 with 1 Axes>"
      ]
     },
     "metadata": {},
     "output_type": "display_data"
    }
   ],
   "source": [
    "# Re-run code after state reset\n",
    "import pandas as pd\n",
    "import matplotlib.pyplot as plt\n",
    "import seaborn as sns\n",
    "from scipy.stats import pearsonr\n",
    "\n",
    "\n",
    "\n",
    "# Group by company to calculate average PE Ratio and average Market Cap\n",
    "company_stats = stock_df.groupby(\"Company\")[[\"PE_Ratio\", \"Market_Cap\"]].mean().reset_index()\n",
    "\n",
    "# Calculate correlation\n",
    "correlation, p_value = pearsonr(company_stats[\"PE_Ratio\"], company_stats[\"Market_Cap\"])\n",
    "\n",
    "# Plot the relationship\n",
    "plt.figure(figsize=(10, 6))\n",
    "sns.regplot(x=\"PE_Ratio\", y=\"Market_Cap\", data=company_stats, scatter_kws={'s': 60}, line_kws={'color': 'red'})\n",
    "plt.title(f\"Correlation between PE Ratio and Market Cap\\nPearson r = {correlation:.2f}, p = {p_value:.3f}\")\n",
    "plt.xlabel(\"Average PE Ratio\")\n",
    "plt.ylabel(\"Average Market Cap\")\n",
    "plt.grid(True)\n",
    "plt.tight_layout()\n",
    "plt.show()\n"
   ]
  },
  {
   "cell_type": "markdown",
   "metadata": {},
   "source": [
    "### 7. Bullish Frequency / Streaks"
   ]
  },
  {
   "cell_type": "code",
   "execution_count": null,
   "metadata": {},
   "outputs": [],
   "source": [
    "stock_df['Is_Bullish'] = (stock_df['Trend'] == 'bullish').astype(int)\n",
    "bullish_days = stock_df.groupby('Company')['Is_Bullish'].sum().sort_values(ascending=False)\n",
    "\n",
    "print(bullish_days)"
   ]
  },
  {
   "cell_type": "markdown",
   "metadata": {},
   "source": [
    "## 9. Balanced Allocation "
   ]
  },
  {
   "cell_type": "code",
   "execution_count": null,
   "metadata": {},
   "outputs": [],
   "source": [
    "import matplotlib.pyplot as plt\n",
    "\n",
    "# Data for the balanced portfolio\n",
    "labels = [\n",
    "    'Core / Stable (45%)',\n",
    "    'Income Generator (25%)',\n",
    "    'Growth-Oriented (15%)',\n",
    "    'Speculative / High-Risk (10%)',\n",
    "    'Declining Trend (Put Play, 5%)'\n",
    "]\n",
    "sizes = [45, 25, 15, 10, 5]\n",
    "\n",
    "# Colors (can be customized)\n",
    "colors = ['#4daf4a', '#377eb8', '#ff7f00', '#e41a1c', '#984ea3']\n",
    "\n",
    "# Create pie chart\n",
    "fig, ax = plt.subplots()\n",
    "ax.pie(sizes, labels=labels, colors=colors, startangle=90, autopct='%1.0f%%', textprops={'fontsize': 10})\n",
    "ax.axis('equal')  # Equal aspect ratio ensures that pie is drawn as a circle.\n",
    "plt.title('Balanced Portfolio Allocation for Beginners', fontsize=14)\n",
    "plt.tight_layout()\n",
    "\n",
    "plt.show()\n"
   ]
  },
  {
   "cell_type": "markdown",
   "metadata": {},
   "source": [
    "## 9. Randomly Pick Stocks(Company Names) from Different 5 Types "
   ]
  },
  {
   "cell_type": "markdown",
   "metadata": {},
   "source": [
    "### 9.1 The formula to pick"
   ]
  },
  {
   "cell_type": "code",
   "execution_count": null,
   "metadata": {},
   "outputs": [],
   "source": [
    "# We'll now:\n",
    "# 1. Aggregate data per company\n",
    "# 2. Apply the Stock Type classification logic\n",
    "# 3. Sample one company per Stock Type\n",
    "# 4. Allocate fund and visualize\n",
    "\n",
    "# Step 1: Aggregate median values per company\n",
    "agg_df = stock_df.groupby(\"Company\").agg({\n",
    "    \"PE_Ratio\": \"median\",\n",
    "    \"Volatility\": \"median\",\n",
    "    \"Dividend_Yield\": \"median\",\n",
    "    \"Trend\": lambda x: x.mode()[0] if not x.mode().empty else x.iloc[0]  # most common trend\n",
    "}).reset_index()\n",
    "\n",
    "# Step 2: Classify Stock Type\n",
    "def classify_stock(row):\n",
    "    if row[\"Trend\"] != \"bullish\" and row[\"Trend\"] != \"stable\":\n",
    "        return \"Declining / Put Play\"\n",
    "    elif row[\"PE_Ratio\"] > 25 and row[\"Volatility\"] > 0.03 and row[\"Dividend_Yield\"] > 0.03:\n",
    "        return \"Speculative / High-Risk\"\n",
    "    elif row[\"PE_Ratio\"] <= 24 and row[\"Dividend_Yield\"] >= 0.025 and row[\"Volatility\"] < 0.024:\n",
    "        return \"Income Generator\"\n",
    "    elif row[\"PE_Ratio\"] >= 25 or row[\"Volatility\"] > 0.03:\n",
    "        return \"Growth-Oriented\"\n",
    "    else:\n",
    "        return \"Core / Stable\"\n",
    "\n",
    "agg_df[\"Stock Type\"] = agg_df.apply(classify_stock, axis=1)\n",
    "\n",
    "# Step 3: Sample one company from each stock type\n",
    "sampled = agg_df.groupby(\"Stock Type\", group_keys=False).apply(lambda x: x.sample(1))\n",
    "\n",
    "\n",
    "# Sample 2 companies each for Core / Stable and Income Generator\n",
    "core_sample = agg_df[agg_df[\"Stock Type\"] == \"Core / Stable\"].sample(2, random_state=42)\n",
    "income_sample = agg_df[agg_df[\"Stock Type\"] == \"Income Generator\"].sample(2, random_state=42)\n",
    "\n",
    "# Sample 1 for each of the other types\n",
    "other_types = [\"Growth-Oriented\", \"Speculative / High-Risk\", \"Declining / Put Play\"]\n",
    "other_samples = agg_df[agg_df[\"Stock Type\"].isin(other_types)].groupby(\"Stock Type\", group_keys=False).apply(lambda x: x.sample(1))\n",
    "\n",
    "# Combine all samples\n",
    "multi_sampled = pd.concat([core_sample, income_sample, other_samples], ignore_index=True)\n",
    "\n",
    "\n",
    "# Step 4: Add fund allocation\n",
    "allocation_pct_multi = {\n",
    "    \"Core / Stable\": 22.5,  # 45% / 2\n",
    "    \"Income Generator\": 12.5,  # 25% / 2\n",
    "    \"Growth-Oriented\": 15,\n",
    "    \"Speculative / High-Risk\": 10,\n",
    "    \"Declining / Put Play\": 5\n",
    "}\n",
    "\n",
    "# Map allocation per company\n",
    "multi_sampled[\"Allocation (%)\"] = multi_sampled[\"Stock Type\"].map(allocation_pct_multi)\n",
    "multi_sampled[\"Allocated ($)\"] = multi_sampled[\"Allocation (%)\"] * total_fund / 100\n",
    "\n",
    "multi_sampled\n"
   ]
  },
  {
   "cell_type": "markdown",
   "metadata": {},
   "source": [
    "### 9.2 The formula to pick (to prove different results from the previous lines) and the plots\n"
   ]
  },
  {
   "cell_type": "code",
   "execution_count": null,
   "metadata": {},
   "outputs": [],
   "source": [
    "\n",
    "# Aggregate median values per company\n",
    "agg_df = stock_df.groupby(\"Company\").agg({\n",
    "    \"PE_Ratio\": \"median\",\n",
    "    \"Volatility\": \"median\",\n",
    "    \"Dividend_Yield\": \"median\",\n",
    "    \"Trend\": lambda x: x.mode()[0] if not x.mode().empty else x.iloc[0]\n",
    "}).reset_index()\n",
    "\n",
    "# Classification function\n",
    "def classify_stock(row):\n",
    "    if row[\"Trend\"] != \"bullish\" and row[\"Trend\"] != \"stable\":\n",
    "        return \"Declining / Put Play\"\n",
    "    elif row[\"PE_Ratio\"] > 25 and row[\"Volatility\"] > 0.03 and row[\"Dividend_Yield\"] > 0.03:\n",
    "        return \"Speculative / High-Risk\"\n",
    "    elif row[\"PE_Ratio\"] <= 24 and row[\"Dividend_Yield\"] >= 0.025 and row[\"Volatility\"] < 0.024:\n",
    "        return \"Income Generator\"\n",
    "    elif row[\"PE_Ratio\"] >= 25 or row[\"Volatility\"] > 0.03:\n",
    "        return \"Growth-Oriented\"\n",
    "    else:\n",
    "        return \"Core / Stable\"\n",
    "\n",
    "agg_df[\"Stock Type\"] = agg_df.apply(classify_stock, axis=1)\n",
    "\n",
    "# Sample 2 each for Core / Stable and Income Generator\n",
    "core_sample = agg_df[agg_df[\"Stock Type\"] == \"Core / Stable\"].sample(2, random_state=42)\n",
    "income_sample = agg_df[agg_df[\"Stock Type\"] == \"Income Generator\"].sample(2, random_state=42)\n",
    "\n",
    "# Sample 1 each for other types\n",
    "other_types = [\"Growth-Oriented\", \"Speculative / High-Risk\", \"Declining / Put Play\"]\n",
    "other_samples = agg_df[agg_df[\"Stock Type\"].isin(other_types)].groupby(\"Stock Type\", group_keys=False).apply(lambda x: x.sample(1))\n",
    "\n",
    "# Combine all samples\n",
    "multi_sampled = pd.concat([core_sample, income_sample, other_samples], ignore_index=True)\n",
    "\n",
    "# Assign allocation\n",
    "allocation_pct_multi = {\n",
    "    \"Core / Stable\": 22.5,\n",
    "    \"Income Generator\": 12.5,\n",
    "    \"Growth-Oriented\": 15,\n",
    "    \"Speculative / High-Risk\": 10,\n",
    "    \"Declining / Put Play\": 5\n",
    "}\n",
    "total_fund = 50000\n",
    "\n",
    "multi_sampled[\"Allocation (%)\"] = multi_sampled[\"Stock Type\"].map(allocation_pct_multi)\n",
    "multi_sampled[\"Allocated ($)\"] = multi_sampled[\"Allocation (%)\"] * total_fund / 100\n",
    "\n",
    "# Create pie chart with same color per stock type\n",
    "labels = multi_sampled[\"Company\"] + \"\\n(\" + multi_sampled[\"Stock Type\"] + \")\"\n",
    "sizes = multi_sampled[\"Allocated ($)\"]\n",
    "percent_labels = sizes / sizes.sum() * 100\n",
    "formatted_labels = [f\"{label}\\n${value:,.0f} ({pct:.1f}%)\" for label, value, pct in zip(labels, sizes, percent_labels)]\n",
    "\n",
    "stock_type_colors = {\n",
    "    \"Core / Stable\": \"#4CAF50\",\n",
    "    \"Income Generator\": \"#2196F3\",\n",
    "    \"Growth-Oriented\": \"#FFC107\",\n",
    "    \"Speculative / High-Risk\": \"#FF5722\",\n",
    "    \"Declining / Put Play\": \"#9C27B0\"\n",
    "}\n",
    "colors = multi_sampled[\"Stock Type\"].map(stock_type_colors).tolist()\n",
    "\n",
    "plt.figure(figsize=(9, 9))\n",
    "plt.pie(\n",
    "    sizes,\n",
    "    labels=formatted_labels,\n",
    "    startangle=140,\n",
    "    counterclock=False,\n",
    "    wedgeprops=dict(width=0.4, edgecolor='white'),\n",
    "    colors=colors\n",
    ")\n",
    "plt.title(\"Balanced Portfolio Allocation ($50,000)\", fontsize=14)\n",
    "plt.axis('equal')\n",
    "plt.tight_layout()\n",
    "plt.show()\n"
   ]
  }
 ],
 "metadata": {
  "kernelspec": {
   "display_name": "base",
   "language": "python",
   "name": "python3"
  },
  "language_info": {
   "codemirror_mode": {
    "name": "ipython",
    "version": 3
   },
   "file_extension": ".py",
   "mimetype": "text/x-python",
   "name": "python",
   "nbconvert_exporter": "python",
   "pygments_lexer": "ipython3",
   "version": "3.12.7"
  }
 },
 "nbformat": 4,
 "nbformat_minor": 2
}
