{
 "cells": [
  {
   "cell_type": "markdown",
   "metadata": {},
   "source": [
    "# Stock Data_Analysis"
   ]
  },
  {
   "cell_type": "markdown",
   "metadata": {},
   "source": [
    "The code is to show how some analysis were done."
   ]
  },
  {
   "cell_type": "code",
   "execution_count": 13,
   "metadata": {},
   "outputs": [],
   "source": [
    "import pandas as pd\n",
    "import os\n",
    "import numpy as np\n",
    "\n",
    "\n",
    "trading_data = pd.read_csv('/Users/xiejing/Desktop/Codeoptest/Investor_Portfolio_Recommender_for_Beginners/final_cleaned_trading_data.csv')\n",
    "\n",
    "import pandas as pd\n",
    "import numpy as np\n",
    "\n",
    "# Ensure your data is sorted\n",
    "trading_data_daily = trading_data.sort_values(by=['ticker', 'date'])\n",
    "\n",
    "# Calculate log returns per stock\n",
    "trading_data_daily['log return'] = trading_data_daily.groupby('ticker')['close'].transform(\n",
    "    lambda x: np.log(x / x.shift(1))\n",
    ")\n",
    "\n",
    "\n"
   ]
  },
  {
   "cell_type": "code",
   "execution_count": 17,
   "metadata": {},
   "outputs": [
    {
     "data": {
      "text/plain": [
       "Index(['date', 'close', 'high', 'low', 'open', 'volume', 'ticker'], dtype='object')"
      ]
     },
     "execution_count": 17,
     "metadata": {},
     "output_type": "execute_result"
    }
   ],
   "source": [
    "trading_data.columns"
   ]
  },
  {
   "cell_type": "code",
   "execution_count": 18,
   "metadata": {},
   "outputs": [],
   "source": [
    "trading_data_daily.rename(columns={'log return': 'daily_return'}, inplace=True)"
   ]
  },
  {
   "cell_type": "code",
   "execution_count": 19,
   "metadata": {},
   "outputs": [
    {
     "name": "stdout",
     "output_type": "stream",
     "text": [
      "date              0\n",
      "close             0\n",
      "high              0\n",
      "low               0\n",
      "open              0\n",
      "volume            0\n",
      "ticker            0\n",
      "daily_return    214\n",
      "dtype: int64\n"
     ]
    }
   ],
   "source": [
    "print(trading_data_daily.isnull().sum())\n",
    "\n",
    "trading_data_daily = trading_data_daily.dropna(subset=['daily_return'])"
   ]
  },
  {
   "cell_type": "markdown",
   "metadata": {},
   "source": [
    "## Volatility Calculations"
   ]
  },
  {
   "cell_type": "code",
   "execution_count": null,
   "metadata": {},
   "outputs": [],
   "source": [
    "# Ensure  data is sorted by ticker and date\n",
    "trading_data_daily = trading_data_daily.sort_values(by=['ticker', 'date'])\n",
    "\n",
    "# Calculate 30-day rolling volatility\n",
    "trading_data_daily['Volatility_30D'] = (\n",
    "    trading_data_daily\n",
    "    .groupby('ticker')['Daily Return']\n",
    "    .transform(lambda x: x.rolling(window=30).std())\n",
    ")\n",
    "\n",
    "# Calculate 60-day rolling volatility\n",
    "trading_data_daily['Volatility_60D'] = (\n",
    "    trading_data_daily\n",
    "    .groupby('ticker')['Daily Return']\n",
    "    .transform(lambda x: x.rolling(window=60).std())\n",
    ")\n"
   ]
  }
 ],
 "metadata": {
  "kernelspec": {
   "display_name": "base",
   "language": "python",
   "name": "python3"
  },
  "language_info": {
   "codemirror_mode": {
    "name": "ipython",
    "version": 3
   },
   "file_extension": ".py",
   "mimetype": "text/x-python",
   "name": "python",
   "nbconvert_exporter": "python",
   "pygments_lexer": "ipython3",
   "version": "3.12.7"
  }
 },
 "nbformat": 4,
 "nbformat_minor": 2
}
