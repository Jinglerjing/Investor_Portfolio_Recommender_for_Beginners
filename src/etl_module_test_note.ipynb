{
 "cells": [
  {
   "cell_type": "code",
   "execution_count": 7,
   "metadata": {},
   "outputs": [
    {
     "name": "stderr",
     "output_type": "stream",
     "text": [
      "[*********************100%***********************]  1 of 1 completed\n",
      "[*********************100%***********************]  1 of 1 completed\n",
      "[*********************100%***********************]  1 of 1 completed"
     ]
    },
    {
     "name": "stdout",
     "output_type": "stream",
     "text": [
      "🚀 Starting ETL pipeline for sector: Technology\n",
      "Downloading AAPL...\n",
      "Saved: AAPL.csv\n",
      "Downloading MSFT...\n",
      "Saved: MSFT.csv\n",
      "Downloading GOOGL...\n",
      "Saved: GOOGL.csv\n",
      "Downloading NVDA...\n"
     ]
    },
    {
     "name": "stderr",
     "output_type": "stream",
     "text": [
      "\n",
      "[*********************100%***********************]  1 of 1 completed\n",
      "[*********************100%***********************]  1 of 1 completed\n"
     ]
    },
    {
     "name": "stdout",
     "output_type": "stream",
     "text": [
      "Saved: NVDA.csv\n",
      "Downloading ADBE...\n",
      "Saved: ADBE.csv\n",
      "Saved metadata to /Users/xiejing/Desktop/Codeoptest/test/Technology/Technology_metadata.csv\n",
      "Merged CSV saved to Technology_merged_trading_data.csv\n",
      "✅ ETL completed for sector: Technology\n"
     ]
    },
    {
     "data": {
      "text/html": [
       "<div>\n",
       "<style scoped>\n",
       "    .dataframe tbody tr th:only-of-type {\n",
       "        vertical-align: middle;\n",
       "    }\n",
       "\n",
       "    .dataframe tbody tr th {\n",
       "        vertical-align: top;\n",
       "    }\n",
       "\n",
       "    .dataframe thead th {\n",
       "        text-align: right;\n",
       "    }\n",
       "</style>\n",
       "<table border=\"1\" class=\"dataframe\">\n",
       "  <thead>\n",
       "    <tr style=\"text-align: right;\">\n",
       "      <th></th>\n",
       "      <th>Date</th>\n",
       "      <th>Close</th>\n",
       "      <th>High</th>\n",
       "      <th>Low</th>\n",
       "      <th>Open</th>\n",
       "      <th>Volume</th>\n",
       "    </tr>\n",
       "  </thead>\n",
       "  <tbody>\n",
       "    <tr>\n",
       "      <th>0</th>\n",
       "      <td>2020-01-02</td>\n",
       "      <td>334.429993</td>\n",
       "      <td>334.480011</td>\n",
       "      <td>329.170013</td>\n",
       "      <td>330.000000</td>\n",
       "      <td>1990100</td>\n",
       "    </tr>\n",
       "    <tr>\n",
       "      <th>1</th>\n",
       "      <td>2020-01-03</td>\n",
       "      <td>331.809998</td>\n",
       "      <td>332.980011</td>\n",
       "      <td>328.690002</td>\n",
       "      <td>329.170013</td>\n",
       "      <td>1577600</td>\n",
       "    </tr>\n",
       "    <tr>\n",
       "      <th>2</th>\n",
       "      <td>2020-01-06</td>\n",
       "      <td>333.709991</td>\n",
       "      <td>333.910004</td>\n",
       "      <td>328.190002</td>\n",
       "      <td>328.290009</td>\n",
       "      <td>1874700</td>\n",
       "    </tr>\n",
       "    <tr>\n",
       "      <th>3</th>\n",
       "      <td>2020-01-07</td>\n",
       "      <td>333.390015</td>\n",
       "      <td>334.790009</td>\n",
       "      <td>332.309998</td>\n",
       "      <td>334.149994</td>\n",
       "      <td>2500800</td>\n",
       "    </tr>\n",
       "    <tr>\n",
       "      <th>4</th>\n",
       "      <td>2020-01-08</td>\n",
       "      <td>337.869995</td>\n",
       "      <td>339.230011</td>\n",
       "      <td>333.399994</td>\n",
       "      <td>333.809998</td>\n",
       "      <td>2248500</td>\n",
       "    </tr>\n",
       "    <tr>\n",
       "      <th>...</th>\n",
       "      <td>...</td>\n",
       "      <td>...</td>\n",
       "      <td>...</td>\n",
       "      <td>...</td>\n",
       "      <td>...</td>\n",
       "      <td>...</td>\n",
       "    </tr>\n",
       "    <tr>\n",
       "      <th>6755</th>\n",
       "      <td>2025-05-13</td>\n",
       "      <td>212.929993</td>\n",
       "      <td>213.399994</td>\n",
       "      <td>209.000000</td>\n",
       "      <td>210.429993</td>\n",
       "      <td>51909300</td>\n",
       "    </tr>\n",
       "    <tr>\n",
       "      <th>6756</th>\n",
       "      <td>2025-05-14</td>\n",
       "      <td>212.330002</td>\n",
       "      <td>213.940002</td>\n",
       "      <td>210.580002</td>\n",
       "      <td>212.429993</td>\n",
       "      <td>49325800</td>\n",
       "    </tr>\n",
       "    <tr>\n",
       "      <th>6757</th>\n",
       "      <td>2025-05-15</td>\n",
       "      <td>211.449997</td>\n",
       "      <td>212.960007</td>\n",
       "      <td>209.539993</td>\n",
       "      <td>210.949997</td>\n",
       "      <td>45029500</td>\n",
       "    </tr>\n",
       "    <tr>\n",
       "      <th>6758</th>\n",
       "      <td>2025-05-16</td>\n",
       "      <td>211.259995</td>\n",
       "      <td>212.570007</td>\n",
       "      <td>209.770004</td>\n",
       "      <td>212.360001</td>\n",
       "      <td>54737900</td>\n",
       "    </tr>\n",
       "    <tr>\n",
       "      <th>6759</th>\n",
       "      <td>2025-05-19</td>\n",
       "      <td>208.779999</td>\n",
       "      <td>209.479996</td>\n",
       "      <td>204.259995</td>\n",
       "      <td>207.910004</td>\n",
       "      <td>46140500</td>\n",
       "    </tr>\n",
       "  </tbody>\n",
       "</table>\n",
       "<p>6760 rows × 6 columns</p>\n",
       "</div>"
      ],
      "text/plain": [
       "           Date       Close        High         Low        Open    Volume\n",
       "0    2020-01-02  334.429993  334.480011  329.170013  330.000000   1990100\n",
       "1    2020-01-03  331.809998  332.980011  328.690002  329.170013   1577600\n",
       "2    2020-01-06  333.709991  333.910004  328.190002  328.290009   1874700\n",
       "3    2020-01-07  333.390015  334.790009  332.309998  334.149994   2500800\n",
       "4    2020-01-08  337.869995  339.230011  333.399994  333.809998   2248500\n",
       "...         ...         ...         ...         ...         ...       ...\n",
       "6755 2025-05-13  212.929993  213.399994  209.000000  210.429993  51909300\n",
       "6756 2025-05-14  212.330002  213.940002  210.580002  212.429993  49325800\n",
       "6757 2025-05-15  211.449997  212.960007  209.539993  210.949997  45029500\n",
       "6758 2025-05-16  211.259995  212.570007  209.770004  212.360001  54737900\n",
       "6759 2025-05-19  208.779999  209.479996  204.259995  207.910004  46140500\n",
       "\n",
       "[6760 rows x 6 columns]"
      ]
     },
     "execution_count": 7,
     "metadata": {},
     "output_type": "execute_result"
    }
   ],
   "source": [
    "import importlib\n",
    "import etl_utils\n",
    "importlib.reload(etl_utils)\n",
    "from etl_utils import run_etl_pipeline\n",
    "\n",
    "\n",
    "#from etl_utils import (\n",
    "    #download_trading_data,\n",
    "    #fetch_metadata,\n",
    "    #merge_csvs,\n",
    "    #clean_trading_data,\n",
    "    #run_etl_pipeline\n",
    "#)\n",
    "\n",
    "\n",
    "# Define the list of tickers for the Technology sector\n",
    "tickers = ['AAPL', 'MSFT', 'GOOGL', 'NVDA', 'ADBE']\n",
    "\n",
    "# Define the base folder path (all output will go inside this)\n",
    "base_folder = \"/Users/xiejing/Desktop/Codeoptest/test\"\n",
    "\n",
    "# Define the sector name (used to name subfolder and files)\n",
    "sector_name = \"Technology\"\n",
    "\n",
    "# Optional: specify a different date range (or just use defaults)\n",
    "start_date = \"2020-01-01\"\n",
    "end_date = \"2025-05-20\"\n",
    "\n",
    "# Run the pipeline\n",
    "run_etl_pipeline(tickers, base_folder, sector_name, start=start_date, end=end_date)\n"
   ]
  },
  {
   "cell_type": "code",
   "execution_count": 8,
   "metadata": {},
   "outputs": [
    {
     "name": "stderr",
     "output_type": "stream",
     "text": [
      "[*********************100%***********************]  1 of 1 completed\n",
      "[*********************100%***********************]  1 of 1 completed"
     ]
    },
    {
     "name": "stdout",
     "output_type": "stream",
     "text": [
      "🚀 Starting ETL pipeline for sector: Technology\n",
      "Downloading AAPL...\n",
      "Saved: AAPL.csv\n",
      "Downloading GOOGL...\n",
      "Saved: GOOGL.csv\n"
     ]
    },
    {
     "name": "stderr",
     "output_type": "stream",
     "text": [
      "\n"
     ]
    },
    {
     "name": "stdout",
     "output_type": "stream",
     "text": [
      "Saved metadata to /Users/xiejing/Desktop/Codeoptest/test/Technology/Technology_metadata.csv\n",
      "⚠️ Sector mismatch detected for the following tickers:\n",
      "  ticker                  sector\n",
      "1  GOOGL  Communication Services\n",
      "🚫 ETL stopped. Please verify your ticker list or sector_name.\n"
     ]
    }
   ],
   "source": [
    "import importlib\n",
    "import etl_utils\n",
    "importlib.reload(etl_utils)\n",
    "from etl_utils import run_etl_pipeline\n",
    "\n",
    "run_etl_pipeline(['AAPL', 'GOOGL'], \"/Users/xiejing/Desktop/Codeoptest/test\", \"Technology\")\n"
   ]
  }
 ],
 "metadata": {
  "kernelspec": {
   "display_name": "base",
   "language": "python",
   "name": "python3"
  },
  "language_info": {
   "codemirror_mode": {
    "name": "ipython",
    "version": 3
   },
   "file_extension": ".py",
   "mimetype": "text/x-python",
   "name": "python",
   "nbconvert_exporter": "python",
   "pygments_lexer": "ipython3",
   "version": "3.12.7"
  }
 },
 "nbformat": 4,
 "nbformat_minor": 2
}
